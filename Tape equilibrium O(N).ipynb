{
 "cells": [
  {
   "cell_type": "code",
   "execution_count": null,
   "metadata": {},
   "outputs": [],
   "source": [
    "# DATA GEN\n",
    "# N = 2 to 100,000\n",
    "# Array elements range from +/- 1000\n",
    "import time\n",
    "import random\n",
    "def data_gen():\n",
    "    N       = random.randrange(90000,100000)\n",
    "    elem    = range(-1000,1000)\n",
    "    A       = random.choices(elem,k = N)\n",
    "    print(N)\n",
    "    return A"
   ]
  },
  {
   "cell_type": "code",
   "execution_count": 1,
   "metadata": {},
   "outputs": [],
   "source": [
    "# Iteration 1\n",
    "def solution(A):\n",
    "    difference = []\n",
    "    for i in range(len(A)-1):\n",
    "        K =abs(sum(A[:i+1]) - sum(A[i+1:]))\n",
    "        difference.append(K)\n",
    "        if K == 0 : break\n",
    "    return min(difference)   "
   ]
  },
  {
   "cell_type": "code",
   "execution_count": 2,
   "metadata": {},
   "outputs": [],
   "source": [
    "# ITERATION 2\n",
    "def solution2(A):\n",
    "    S = sum(A)\n",
    "#     print(S)\n",
    "    difference = []\n",
    "    for i in range(len(A)-1):\n",
    "        left_sum = sum(A[:i+1])\n",
    "#         print(left_sum)\n",
    "        right_sum = S - left_sum # - sum(A[i+1:]))\n",
    "#         print(right_sum)\n",
    "        K = abs(left_sum - right_sum)\n",
    "#         print(K)        \n",
    "        difference.append(K)\n",
    "        if K == 0 : break\n",
    "    return min(difference)"
   ]
  },
  {
   "cell_type": "code",
   "execution_count": null,
   "metadata": {},
   "outputs": [],
   "source": [
    "# ITERATION3  - best OPTION O(N)\n",
    "\n",
    "\n",
    "\n",
    "def solution3(A):\n",
    "    S = sum(A)\n",
    "#     print(S)\n",
    "    left_sum = 0\n",
    "    difference = []\n",
    "    for i in range(len(A)-1):\n",
    "        left_sum += A[i]\n",
    "#         print(left_sum)\n",
    "        right_sum = S - left_sum # - sum(A[i+1:]))\n",
    "#         print(right_sum)\n",
    "        K = abs(left_sum - right_sum)\n",
    "#         print(K)        \n",
    "        difference.append(K)\n",
    "        if K == 0 : break\n",
    "    return min(difference)"
   ]
  }
 ],
 "metadata": {
  "kernelspec": {
   "display_name": "Python 3",
   "language": "python",
   "name": "python3"
  },
  "language_info": {
   "codemirror_mode": {
    "name": "ipython",
    "version": 3
   },
   "file_extension": ".py",
   "mimetype": "text/x-python",
   "name": "python",
   "nbconvert_exporter": "python",
   "pygments_lexer": "ipython3",
   "version": "3.6.5"
  }
 },
 "nbformat": 4,
 "nbformat_minor": 2
}
