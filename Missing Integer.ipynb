{
  "cells": [
    {
      "cell_type": "code",
      "source": [
        "# N is an integer within the range [1..100,000];\n",
        "# each element of array A is an integer within the range [−1,000,000..1,000,000].\n",
        "import random\n",
        "def datagen():\n",
        "    N = random.randrange(1,100000)\n",
        "    A = random.choices(range(-1000000,10000000),k=N)\n",
        "    print(N)\n",
        "    return A"
      ],
      "outputs": [],
      "execution_count": 36,
      "metadata": {
        "collapsed": false,
        "outputHidden": false,
        "inputHidden": false
      }
    },
    {
      "cell_type": "code",
      "source": [
        "A = datagen()\n",
        "# A"
      ],
      "outputs": [
        {
          "output_type": "stream",
          "name": "stdout",
          "text": [
            "66615\n"
          ]
        }
      ],
      "execution_count": 64,
      "metadata": {
        "collapsed": false,
        "outputHidden": false,
        "inputHidden": false
      }
    },
    {
      "cell_type": "code",
      "source": [
        "def solution(A):\n",
        "    seta = set(A)\n",
        "    maxa = max(seta)\n",
        "    if maxa < 1 : return 1\n",
        "    else:\n",
        "        temp = set(range(1,maxa))\n",
        "        difference = temp - seta\n",
        "    if len(difference) != 0: return min(difference)\n",
        "    else: return max(A) + 1\n",
        "      \n",
        "    pass"
      ],
      "outputs": [],
      "execution_count": 70,
      "metadata": {
        "collapsed": false,
        "outputHidden": false,
        "inputHidden": false
      }
    },
    {
      "cell_type": "code",
      "source": [
        "from time import time\n",
        "A = datagen()\n",
        "t0 = time()\n",
        "solution(A)\n",
        "t1 = time()\n",
        "T = t1-t0\n",
        "print(T)"
      ],
      "outputs": [
        {
          "output_type": "stream",
          "name": "stdout",
          "text": [
            "95260\n",
            "1.3988397121429443\n"
          ]
        }
      ],
      "execution_count": 75,
      "metadata": {
        "collapsed": false,
        "outputHidden": false,
        "inputHidden": false
      }
    },
    {
      "cell_type": "code",
      "source": [
        "x = set([-1,4,2,4])\n",
        "max(x)"
      ],
      "outputs": [
        {
          "output_type": "execute_result",
          "execution_count": 69,
          "data": {
            "text/plain": [
              "4"
            ]
          },
          "metadata": {}
        }
      ],
      "execution_count": 69,
      "metadata": {
        "collapsed": false,
        "outputHidden": false,
        "inputHidden": false
      }
    },
    {
      "cell_type": "code",
      "source": [],
      "outputs": [],
      "execution_count": null,
      "metadata": {
        "collapsed": false,
        "outputHidden": false,
        "inputHidden": false
      }
    }
  ],
  "metadata": {
    "kernel_info": {
      "name": "python3"
    },
    "language_info": {
      "name": "python",
      "version": "3.6.5",
      "mimetype": "text/x-python",
      "codemirror_mode": {
        "name": "ipython",
        "version": 3
      },
      "pygments_lexer": "ipython3",
      "nbconvert_exporter": "python",
      "file_extension": ".py"
    },
    "kernelspec": {
      "name": "python3",
      "language": "python",
      "display_name": "Python 3"
    },
    "nteract": {
      "version": "0.12.3"
    }
  },
  "nbformat": 4,
  "nbformat_minor": 4
}