{
  "cells": [
    {
      "cell_type": "code",
      "source": [
        "# DATA GEN\n",
        "import random\n",
        "def data_gen():\n",
        "    N = random.randrange(1,20)\n",
        "    print(N)\n",
        "    A = random.sample(range(1,N+1),N-1)\n",
        "    A.append(N+1)\n",
        "#     A.sort()\n",
        "    return A"
      ],
      "outputs": [],
      "execution_count": 360,
      "metadata": {
        "collapsed": false,
        "outputHidden": false,
        "inputHidden": false
      }
    },
    {
      "cell_type": "code",
      "source": [
        "def solution(A):\n",
        "#     A.sort()\n",
        "    if len(A) == 0 :    return 1\n",
        "    \n",
        "    K = list(range(1,max(A)+1))\n",
        "    check = (set(K) - set(A))  \n",
        "    \n",
        "    if len(check) != 0: return check.pop()   \n",
        "    else:               return(max(A)+1)\n",
        "    \n",
        "    pass"
      ],
      "outputs": [],
      "execution_count": 445,
      "metadata": {
        "collapsed": false,
        "outputHidden": false,
        "inputHidden": false
      }
    },
    {
      "cell_type": "code",
      "source": [
        "X = data_gen()\n",
        "X.sort()\n",
        "print(X)\n"
      ],
      "outputs": [
        {
          "output_type": "stream",
          "name": "stdout",
          "text": [
            "13\n",
            "[1, 2, 3, 4, 5, 6, 7, 8, 9, 11, 12, 13, 14]\n"
          ]
        }
      ],
      "execution_count": 374,
      "metadata": {
        "collapsed": false,
        "outputHidden": false,
        "inputHidden": false
      }
    },
    {
      "cell_type": "code",
      "source": [
        "solution([2])"
      ],
      "outputs": [
        {
          "output_type": "execute_result",
          "execution_count": 451,
          "data": {
            "text/plain": [
              "1"
            ]
          },
          "metadata": {}
        }
      ],
      "execution_count": 451,
      "metadata": {
        "collapsed": false,
        "outputHidden": false,
        "inputHidden": false
      }
    },
    {
      "cell_type": "code",
      "source": [
        "solution(Z)"
      ],
      "outputs": [
        {
          "output_type": "execute_result",
          "execution_count": 438,
          "data": {
            "text/plain": [
              "2"
            ]
          },
          "metadata": {}
        }
      ],
      "execution_count": 438,
      "metadata": {
        "collapsed": false,
        "outputHidden": false,
        "inputHidden": false
      }
    },
    {
      "cell_type": "code",
      "source": [
        "N= 100000\n",
        "Z = list(range(1,100000))\n",
        "Z.pop(1)"
      ],
      "outputs": [
        {
          "output_type": "execute_result",
          "execution_count": 437,
          "data": {
            "text/plain": [
              "2"
            ]
          },
          "metadata": {}
        }
      ],
      "execution_count": 437,
      "metadata": {
        "collapsed": false,
        "outputHidden": false,
        "inputHidden": false
      }
    },
    {
      "cell_type": "code",
      "source": [],
      "outputs": [],
      "execution_count": null,
      "metadata": {
        "collapsed": false,
        "outputHidden": false,
        "inputHidden": false
      }
    }
  ],
  "metadata": {
    "kernel_info": {
      "name": "python3"
    },
    "language_info": {
      "name": "python",
      "version": "3.6.5",
      "mimetype": "text/x-python",
      "codemirror_mode": {
        "name": "ipython",
        "version": 3
      },
      "pygments_lexer": "ipython3",
      "nbconvert_exporter": "python",
      "file_extension": ".py"
    },
    "kernelspec": {
      "name": "python3",
      "language": "python",
      "display_name": "Python 3"
    },
    "nteract": {
      "version": "0.12.3"
    }
  },
  "nbformat": 4,
  "nbformat_minor": 4
}