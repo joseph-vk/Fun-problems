{
  "cells": [
    {
      "cell_type": "code",
      "source": [
        "# DATA GEN\n",
        "# A is the array\n",
        "# N - size of A with a range of 1 to 100000; \n",
        "# Each element elem ranges from 1 to 1000000000\n",
        "\n",
        "import random\n",
        "import time\n",
        "def data_gen():\n",
        "#     elem = random.randrange(3,1000000000)\n",
        "    N = random.randrange(90000,100000)\n",
        "    print('N=',N)\n",
        "    # A = random.choices(range(elem),k = N)\n",
        "    A = random.sample(range(1,N+1),k = N)\n",
        "    return A"
      ],
      "outputs": [],
      "execution_count": 156,
      "metadata": {}
    },
    {
      "cell_type": "code",
      "source": [
        "\n",
        "def solution(A):\n",
        "    maxA = max(A)\n",
        "    print(maxA)\n",
        "    set_A = set(A)\n",
        "    \n",
        "    if len(set_A) != len(A) : return 0\n",
        "    set_B = set(range(1,maxA+1))\n",
        "#     print(set_B)\n",
        "    difference = set_B - set_A\n",
        "    print(difference)\n",
        "    if len(difference) == 0 : return 1\n",
        "    else: return 0\n",
        "    pass"
      ],
      "outputs": [],
      "execution_count": 169,
      "metadata": {}
    },
    {
      "cell_type": "code",
      "source": [
        "A = data_gen()\n",
        "print(max(A))"
      ],
      "outputs": [
        {
          "output_type": "stream",
          "name": "stdout",
          "text": [
            "N= 99977\n",
            "99977\n"
          ]
        }
      ],
      "execution_count": 164,
      "metadata": {}
    },
    {
      "cell_type": "code",
      "source": [
        "t0 = time.time()\n",
        "x = solution(A)\n",
        "print(x)\n",
        "t1 = time.time()\n",
        "T = t1-t0\n",
        "print(T)"
      ],
      "outputs": [
        {
          "output_type": "stream",
          "name": "stdout",
          "text": [
            "99977\n",
            "set()\n",
            "1\n",
            "0.04010462760925293\n"
          ]
        }
      ],
      "execution_count": 170,
      "metadata": {}
    },
    {
      "cell_type": "code",
      "source": [
        "def solution(A):\n",
        "    holes = [0]*(1+len(A))    # holes[0] isn't used\n",
        "    for i in A:\n",
        "        # if i is larger than N then it's not a permutation\n",
        "        # if i appeared before in A, then the hole[i] should be 1, in such case it's not a permutation as well\n",
        "        if i>len(A) or holes[i]==1:\n",
        "            return 0\n",
        "        holes[i] = 1s\n",
        "    return 1"
      ],
      "outputs": [],
      "execution_count": 336,
      "metadata": {}
    },
    {
      "cell_type": "code",
      "source": [],
      "outputs": [],
      "execution_count": null,
      "metadata": {
        "collapsed": false,
        "outputHidden": false,
        "inputHidden": false
      }
    }
  ],
  "metadata": {
    "kernelspec": {
      "name": "python3",
      "language": "python",
      "display_name": "Python 3"
    },
    "language_info": {
      "name": "python",
      "version": "3.6.5",
      "mimetype": "text/x-python",
      "codemirror_mode": {
        "name": "ipython",
        "version": 3
      },
      "pygments_lexer": "ipython3",
      "nbconvert_exporter": "python",
      "file_extension": ".py"
    },
    "kernel_info": {
      "name": "python3"
    },
    "nteract": {
      "version": "0.12.3"
    }
  },
  "nbformat": 4,
  "nbformat_minor": 2
}