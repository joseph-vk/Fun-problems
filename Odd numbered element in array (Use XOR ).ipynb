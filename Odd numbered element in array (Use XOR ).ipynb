{
  "cells": [
    {
      "cell_type": "code",
      "source": [
        "import random\n",
        "from collections import Counter\n",
        "\n",
        "limit = 10#0#0000000\n",
        "def A_gen(n):\n",
        "    A = []\n",
        "    for i in range(1,n-1,2):\n",
        "        element = random.randrange(1,limit,2)\n",
        "        A.append(element)\n",
        "        A.append(element)\n",
        "        \n",
        "    lone_element = random.randrange(1,limit,2)\n",
        "    print(lone_element)\n",
        "    while lone_element in A:\n",
        "        lone_element = lone_element + 2\n",
        "    A.append(lone_element)\n",
        "    print(lone_element) \n",
        "    random.shuffle(A)\n",
        "    return A\n",
        "\n  "
      ],
      "outputs": [],
      "execution_count": 169,
      "metadata": {
        "collapsed": false,
        "outputHidden": false,
        "inputHidden": false
      }
    },
    {
      "cell_type": "code",
      "source": [
        "A = A_gen(7)\n",
        "len(A)\n",
        "A.sort()\n",
        "print(A)\n"
      ],
      "outputs": [
        {
          "output_type": "stream",
          "name": "stdout",
          "text": [
            "3\n",
            "5\n",
            "[1, 1, 3, 3, 5, 9, 9]\n"
          ]
        }
      ],
      "execution_count": 170,
      "metadata": {
        "collapsed": false,
        "outputHidden": false,
        "inputHidden": false
      }
    },
    {
      "cell_type": "code",
      "source": [
        "# METHOD GOD KNOWS WHY IT DOESNT WORK\n",
        "from collections import Counter\n",
        "if len(A) == 1: print(A[-1])\n",
        "else:\n",
        "    B = Counter(A)\n",
        "    for i in B:\n",
        "        if B[i] == 1:\n",
        "            print(i)\n",
        "            break\n",
        "\n",
        "    \n",
        "        "
      ],
      "outputs": [
        {
          "output_type": "stream",
          "name": "stdout",
          "text": [
            "1391549\n"
          ]
        }
      ],
      "execution_count": 133,
      "metadata": {
        "collapsed": false,
        "outputHidden": false,
        "inputHidden": false
      }
    },
    {
      "cell_type": "code",
      "source": [
        "# METHOD BEST\n",
        "print(A)\n",
        "\n",
        "temp = 0\n",
        "for i in A:\n",
        "    temp = temp ^ i\n",
        "    print(temp,i)\n",
        "print(\"resut\")\n",
        "print(temp)\n",
        "  "
      ],
      "outputs": [
        {
          "output_type": "stream",
          "name": "stdout",
          "text": [
            "[1, 1, 3, 3, 5, 9, 9]\n",
            "1 1\n",
            "0 1\n",
            "3 3\n",
            "0 3\n",
            "5 5\n",
            "12 9\n",
            "5 9\n",
            "resut\n",
            "5\n"
          ]
        }
      ],
      "execution_count": 171,
      "metadata": {
        "collapsed": false,
        "outputHidden": false,
        "inputHidden": false
      }
    },
    {
      "cell_type": "code",
      "source": [
        "# A.append(73)\n",
        "print(A)\n",
        "\n",
        "temp = 0\n",
        "for i in A:\n",
        "    temp = (not temp and i)\n",
        "    print(temp,i)\n",
        "print(\"resut\")\n",
        "print(temp)\n",
        "  \n"
      ],
      "outputs": [
        {
          "output_type": "stream",
          "name": "stdout",
          "text": [
            "[3, 3, 25, 77, 77, 81, 81]\n",
            "3 3\n",
            "False 3\n",
            "25 25\n",
            "False 77\n",
            "77 77\n",
            "False 81\n",
            "81 81\n",
            "resut\n",
            "81\n"
          ]
        }
      ],
      "execution_count": 168,
      "metadata": {
        "collapsed": false,
        "outputHidden": false,
        "inputHidden": false
      }
    },
    {
      "cell_type": "code",
      "source": [],
      "outputs": [
        {
          "output_type": "execute_result",
          "execution_count": 154,
          "data": {
            "text/plain": [
              "26"
            ]
          },
          "metadata": {}
        }
      ],
      "execution_count": 154,
      "metadata": {
        "collapsed": false,
        "outputHidden": false,
        "inputHidden": false
      }
    },
    {
      "cell_type": "code",
      "source": [
        "    "
      ],
      "outputs": [],
      "execution_count": null,
      "metadata": {
        "collapsed": false,
        "outputHidden": false,
        "inputHidden": false
      }
    }
  ],
  "metadata": {
    "kernel_info": {
      "name": "python3"
    },
    "language_info": {
      "name": "python",
      "version": "3.6.5",
      "mimetype": "text/x-python",
      "codemirror_mode": {
        "name": "ipython",
        "version": 3
      },
      "pygments_lexer": "ipython3",
      "nbconvert_exporter": "python",
      "file_extension": ".py"
    },
    "kernelspec": {
      "name": "python3",
      "language": "python",
      "display_name": "Python 3"
    },
    "nteract": {
      "version": "0.12.3"
    }
  },
  "nbformat": 4,
  "nbformat_minor": 4
}