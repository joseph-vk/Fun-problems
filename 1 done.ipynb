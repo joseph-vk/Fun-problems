{
  "cells": [
    {
      "cell_type": "code",
      "source": [
        "# MISSING INTEGER\n",
        "\n\n",
        "# S = \"We test coders. Give us a try?\"\n",
        "# S = \"Forget  CVs..Save time . x x\"\n",
        "S = \".\""
      ],
      "outputs": [],
      "execution_count": 48,
      "metadata": {
        "collapsed": false,
        "outputHidden": false,
        "inputHidden": false
      }
    },
    {
      "cell_type": "code",
      "source": [
        "S = S.replace(\"?\",'.').replace('!','.')\n",
        "S"
      ],
      "outputs": [
        {
          "output_type": "execute_result",
          "execution_count": 50,
          "data": {
            "text/plain": [
              "'.'"
            ]
          },
          "metadata": {}
        }
      ],
      "execution_count": 50,
      "metadata": {
        "collapsed": false,
        "outputHidden": false,
        "inputHidden": false
      }
    },
    {
      "cell_type": "code",
      "source": [
        "import re\n",
        "sentences = S.split(sep='.')\n",
        "print(sentences)\n",
        "temp = []\n",
        "for sentence in sentences:\n",
        "    print(sentence)\n",
        "    sentence = sentence.strip()\n",
        "    sentence = re.sub(' +',' ',sentence)\n",
        "    word = sentence.split(sep = ' ')\n",
        "#     print(len(word)) \n",
        "#         continue\n",
        "    print(word)\n",
        "    if word == ['']: continue\n",
        "    print(len(word))\n",
        "    temp.append(len(word))\n",
        "if len(temp) != 0:\n",
        "    print(max(temp))\n",
        "else: print(0)\n",
        "\n"
      ],
      "outputs": [
        {
          "output_type": "stream",
          "name": "stdout",
          "text": [
            "['', '']\n",
            "\n",
            "['']\n",
            "\n",
            "['']\n",
            "0\n"
          ]
        }
      ],
      "execution_count": 53,
      "metadata": {
        "collapsed": false,
        "outputHidden": false,
        "inputHidden": false
      }
    },
    {
      "cell_type": "code",
      "source": [
        "import re"
      ],
      "outputs": [],
      "execution_count": 33,
      "metadata": {
        "collapsed": false,
        "outputHidden": false,
        "inputHidden": false
      }
    },
    {
      "cell_type": "code",
      "source": [
        "?re.sub"
      ],
      "outputs": [],
      "execution_count": 34,
      "metadata": {
        "collapsed": false,
        "outputHidden": false,
        "inputHidden": false
      }
    },
    {
      "cell_type": "code",
      "source": [
        "# FINAL\n",
        "\n",
        "import re\n",
        "def solution(S):\n",
        "    S = S.replace(\"?\",'.').replace('!','.')\n",
        "    # write your code in Python 3.6\n",
        "\n",
        "    sentences = S.split(sep='.')\n",
        "    temp = []\n",
        "    for sentence in sentences:\n",
        "        # print(sentence)\n",
        "        sentence = sentence.strip()\n",
        "        sentence = re.sub(' +',' ',sentence)\n",
        "        word = sentence.split(sep = ' ')\n",
        "        # print(len(word)) \n",
        "        if word == ['']: continue\n",
        "        temp.append(len(word))\n",
        "    if len(temp) != 0:  return max(temp)\n",
        "    else : return 0\n",
        "    pass"
      ],
      "outputs": [],
      "execution_count": null,
      "metadata": {
        "collapsed": false,
        "outputHidden": false,
        "inputHidden": false
      }
    }
  ],
  "metadata": {
    "kernel_info": {
      "name": "python3"
    },
    "language_info": {
      "name": "python",
      "version": "3.6.5",
      "mimetype": "text/x-python",
      "codemirror_mode": {
        "name": "ipython",
        "version": 3
      },
      "pygments_lexer": "ipython3",
      "nbconvert_exporter": "python",
      "file_extension": ".py"
    },
    "kernelspec": {
      "name": "python3",
      "language": "python",
      "display_name": "Python 3"
    },
    "nteract": {
      "version": "0.12.3"
    }
  },
  "nbformat": 4,
  "nbformat_minor": 4
}