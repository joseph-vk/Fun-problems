{
  "cells": [
    {
      "cell_type": "code",
      "source": [],
      "outputs": [],
      "execution_count": null,
      "metadata": {
        "collapsed": false,
        "outputHidden": false,
        "inputHidden": false
      }
    },
    {
      "cell_type": "code",
      "source": [
        "# FROG RIVER ONE\n",
        "# X = width of the river = 1 to 100,000\n",
        "# Frogs position = 0 ; destination = X+1\n",
        "# Each element of array A is of range 1 to X\n",
        "# N = size of array ... or ... time ticking in seconds = 100000\n",
        "\n",
        "import random\n",
        "# width of river\n",
        "def data_gen():\n",
        "#     X = random.randrange(1,10)\n",
        "    X = 10\n",
        "#     Size of array = 100000\n",
        "    N = 15\n",
        "    # Array A -- time ticking A[K]\n",
        "    A = random.choices(range(1,X+1),k=N)\n",
        "#     print('X = ',X,'Avalue = ',A)\n",
        "    return A"
      ],
      "outputs": [],
      "execution_count": 147,
      "metadata": {
        "collapsed": false,
        "outputHidden": false,
        "inputHidden": false
      }
    },
    {
      "cell_type": "code",
      "source": [
        "A = random.choices([2,6],k=10)\n",
        "A\n",
        "# A = list(range(1,30000))"
      ],
      "outputs": [
        {
          "output_type": "execute_result",
          "execution_count": 375,
          "data": {
            "text/plain": [
              "[2, 6, 6, 2, 2, 2, 6, 6, 6, 6]"
            ]
          },
          "metadata": {}
        }
      ],
      "execution_count": 375,
      "metadata": {
        "collapsed": false,
        "outputHidden": false,
        "inputHidden": false
      }
    },
    {
      "cell_type": "code",
      "source": [
        "\n\n",
        "def solution3(X,A):\n",
        "    Riverset = set()\n",
        "    for key_seconds in range(len(A)):\n",
        "    #         if River_Position[Key_seconds] == 0 : River_Position[Key_seconds] = value_position\n",
        "        print('key:',key_seconds,'   |    value:',A[key_seconds])\n",
        "        print(Riverset, 'length of riverset = ',len(Riverset))\n",
        "#         if len(Riverset) == X : return key_seconds\n",
        "#         else : \n",
        "        Riverset.add(A[key_seconds]) \n",
        "        print(Riverset, 'length of new riverset = ',len(Riverset))\n",
        "        if len(Riverset) == X : return key_seconds\n",
        "        print('-------------')\n",
        "    if len(Riverset) != X : return -1\n",
        "    pass"
      ],
      "outputs": [],
      "execution_count": 403,
      "metadata": {
        "collapsed": false,
        "outputHidden": false,
        "inputHidden": false
      }
    },
    {
      "cell_type": "code",
      "source": [
        "solution3(2,[1,1,1,1])"
      ],
      "outputs": [
        {
          "output_type": "stream",
          "name": "stdout",
          "text": [
            "key: 0    |    value: 1\n",
            "set() length of riverset =  0\n",
            "{1} length of new riverset =  1\n",
            "-------------\n",
            "key: 1    |    value: 1\n",
            "{1} length of riverset =  1\n",
            "{1} length of new riverset =  1\n",
            "-------------\n",
            "key: 2    |    value: 1\n",
            "{1} length of riverset =  1\n",
            "{1} length of new riverset =  1\n",
            "-------------\n",
            "key: 3    |    value: 1\n",
            "{1} length of riverset =  1\n",
            "{1} length of new riverset =  1\n",
            "-------------\n"
          ]
        },
        {
          "output_type": "execute_result",
          "execution_count": 406,
          "data": {
            "text/plain": [
              "-1"
            ]
          },
          "metadata": {}
        }
      ],
      "execution_count": 406,
      "metadata": {
        "collapsed": false,
        "outputHidden": false,
        "inputHidden": false
      }
    },
    {
      "cell_type": "code",
      "source": [
        "def solution(X, A):\n",
        "#     allocating river position\n",
        "    setreference = set(list(range(1,X+1)))\n",
        "#     print('reference: ',setreference)\n",
        "    print('length of reference', len(setreference))\n",
        "    setA = set(A)\n",
        "#     print('setA : ' ,setA)\n",
        "    print('length of A',len(A))\n",
        "    difference  = (setreference - setA)\n",
        "    print('length of difference',len(difference))\n",
        "    if (len(A) == len(setreference)) & (len(difference) == 0) : return len(A)-1\n",
        "    if len(difference) == 0:\n",
        "        print('inside')\n",
        "        for key_seconds in range(X,len(A)+1):\n",
        "            print('seconds:',key_seconds)\n",
        "            print('inside loop')\n",
        "            setB = set(A[:key_seconds])\n",
        "            print('setB :',setB)\n",
        "            if len(setreference-setB) == 0 : return key_seconds-1\n",
        "    else: return -1\n",
        "    pass"
      ],
      "outputs": [],
      "execution_count": 289,
      "metadata": {
        "collapsed": false,
        "outputHidden": false,
        "inputHidden": false
      }
    }
  ],
  "metadata": {
    "kernel_info": {
      "name": "python3"
    },
    "language_info": {
      "name": "python",
      "version": "3.6.5",
      "mimetype": "text/x-python",
      "codemirror_mode": {
        "name": "ipython",
        "version": 3
      },
      "pygments_lexer": "ipython3",
      "nbconvert_exporter": "python",
      "file_extension": ".py"
    },
    "kernelspec": {
      "name": "python3",
      "language": "python",
      "display_name": "Python 3"
    },
    "nteract": {
      "version": "0.12.3"
    }
  },
  "nbformat": 4,
  "nbformat_minor": 4
}