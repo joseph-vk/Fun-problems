{
  "cells": [
    {
      "cell_type": "code",
      "source": [
        "# N and M are integers within the range [1..100,000];\n",
        "# each element of array A is an integer within the range [1..N + 1]."
      ],
      "outputs": [],
      "execution_count": null,
      "metadata": {
        "collapsed": false,
        "outputHidden": false,
        "inputHidden": false
      }
    },
    {
      "cell_type": "code",
      "source": [
        "import random\n",
        "def datagen():\n",
        "    N = random.randrange(1,20)\n",
        "    M = random.randrange(1,20)\n",
        "    A = random.choices(range(1,N+2),k=M)\n",
        "    print(N,M)\n",
        "    return A,N\n"
      ],
      "outputs": [],
      "execution_count": 103,
      "metadata": {
        "collapsed": false,
        "outputHidden": false,
        "inputHidden": false
      }
    },
    {
      "cell_type": "code",
      "source": [
        "x = datagen()\n",
        "# print(x)\n",
        "A = x[0]\n",
        "print(A)\n",
        "N = x[1]\n",
        "print(N)"
      ],
      "outputs": [
        {
          "output_type": "stream",
          "name": "stdout",
          "text": [
            "3 5\n",
            "[3, 4, 4, 1, 3]\n",
            "3\n"
          ]
        }
      ],
      "execution_count": 114,
      "metadata": {
        "collapsed": false,
        "outputHidden": false,
        "inputHidden": false
      }
    },
    {
      "cell_type": "code",
      "source": [
        "# def max_counter(counters):\n",
        "#     maxval = max(counters)\n",
        "#     length = len(counters)\n",
        "#     newcounter = [maxval]*length\n",
        "#     return newcounter\n",
        "\n\n",
        "#\n",
        "# O(N*M)\n",
        "#\n",
        "\n",
        "def solution(N,A):\n",
        "    counters = [0]*N\n",
        "    for value in A:\n",
        "        if value < N+1 : \n",
        "            counters[value-1] += 1\n",
        "        else: \n",
        "            counters = [max(counters)]*N\n",
        "    return counters\n",
        "      \n",
        "    pass"
      ],
      "outputs": [],
      "execution_count": 75,
      "metadata": {
        "collapsed": false,
        "outputHidden": false,
        "inputHidden": false
      }
    },
    {
      "cell_type": "code",
      "source": [
        "from time import time\n",
        "t0 = time()\n",
        "solution(N,A)\n",
        "t1 = time()\n",
        "print(t1-t0)"
      ],
      "outputs": [
        {
          "output_type": "stream",
          "name": "stdout",
          "text": [
            "0.047126054763793945\n"
          ]
        }
      ],
      "execution_count": 79,
      "metadata": {
        "collapsed": false,
        "outputHidden": false,
        "inputHidden": false
      }
    },
    {
      "cell_type": "code",
      "source": [
        "#\n",
        "# O(N+M)\n",
        "#\n",
        "import numpy as np\n",
        "def solution2(N,A):\n",
        "    print(A)\n",
        "    counters = [0]*N\n",
        "    print(counters)\n",
        "    maximum = 0 \n",
        "    temp = 0\n",
        "    for value in A:\n",
        "        if value < N+1 :\n",
        "            counters[value-1] += 1\n",
        "            temp = counters[value-1]\n",
        "            print('max=',maximum)\n",
        "            print('temp=',temp)\n",
        "            print(counters)\n",
        "            if maximum < temp: maximum = temp; print(maximum)\n",
        "                \n",
        "        else: \n",
        "            counters = [maximum]*N\n",
        "            print(counters)\n",
        "    return counters\n",
        "      \n",
        "    pass"
      ],
      "outputs": [],
      "execution_count": 211,
      "metadata": {
        "collapsed": false,
        "outputHidden": false,
        "inputHidden": false
      }
    },
    {
      "cell_type": "code",
      "source": [
        "N = 5\n",
        "A =[3,4,4,6,1,4,4]"
      ],
      "outputs": [],
      "execution_count": 107,
      "metadata": {
        "collapsed": false,
        "outputHidden": false,
        "inputHidden": false
      }
    },
    {
      "cell_type": "code",
      "source": [
        "# numpy cannot be used\n",
        "\n\n",
        "def solution3(N,A):\n",
        "    counters = [0]*N\n",
        "    reset = counters.copy()\n",
        "    maximum = 0 \n",
        "    temp = 0\n",
        "    oldmax = 0\n",
        "    for value in A:\n",
        "        if value < N+1 :\n",
        "            counters[value-1] += 1\n",
        "            temp = counters[value-1]\n",
        "            if maximum < temp: maximum = temp\n",
        "                \n",
        "        else: \n",
        "            oldmax += maximum\n",
        "            counters = reset.copy()\n",
        "#     newcounter = np.array([oldmax]*N) + np.array(counters)\n",
        "    newcounter = [(value+oldmax) for value in counters]\n",
        "    return newcounter\n",
        "    pass"
      ],
      "outputs": [],
      "execution_count": 248,
      "metadata": {
        "collapsed": false,
        "outputHidden": false,
        "inputHidden": false
      }
    },
    {
      "cell_type": "code",
      "source": [
        "N = 5\n",
        "A =[3,4,4,6,1,4,4,6,1,2]"
      ],
      "outputs": [],
      "execution_count": 249,
      "metadata": {
        "collapsed": false,
        "outputHidden": false,
        "inputHidden": false
      }
    },
    {
      "cell_type": "code",
      "source": [
        "solution3(N,A)"
      ],
      "outputs": [
        {
          "output_type": "execute_result",
          "execution_count": 250,
          "data": {
            "text/plain": [
              "[5, 5, 4, 4, 4]"
            ]
          },
          "metadata": {}
        }
      ],
      "execution_count": 250,
      "metadata": {
        "collapsed": false,
        "outputHidden": false,
        "inputHidden": false
      }
    },
    {
      "cell_type": "code",
      "source": [
        "A+[1,1,1,1,1,1,1,]"
      ],
      "outputs": [
        {
          "output_type": "execute_result",
          "execution_count": 210,
          "data": {
            "text/plain": [
              "[3, 4, 4, 6, 1, 4, 4, 1, 1, 1, 1, 1, 1, 1]"
            ]
          },
          "metadata": {}
        }
      ],
      "execution_count": 210,
      "metadata": {}
    },
    {
      "cell_type": "code",
      "source": [
        "A+2"
      ],
      "outputs": [
        {
          "output_type": "error",
          "ename": "TypeError",
          "evalue": "can only concatenate list (not \"int\") to list",
          "traceback": [
            "\u001b[1;31m---------------------------------------------------------------------------\u001b[0m",
            "\u001b[1;31mTypeError\u001b[0m                                 Traceback (most recent call last)",
            "\u001b[1;32m<ipython-input-204-a6de07a74d4e>\u001b[0m in \u001b[0;36m<module>\u001b[1;34m()\u001b[0m\n\u001b[1;32m----> 1\u001b[1;33m \u001b[0mA\u001b[0m\u001b[1;33m+\u001b[0m\u001b[1;36m2\u001b[0m\u001b[1;33m\u001b[0m\u001b[0m\n\u001b[0m",
            "\u001b[1;31mTypeError\u001b[0m: can only concatenate list (not \"int\") to list"
          ]
        }
      ],
      "execution_count": 204,
      "metadata": {
        "collapsed": false,
        "outputHidden": false,
        "inputHidden": false
      }
    },
    {
      "cell_type": "code",
      "source": [],
      "outputs": [],
      "execution_count": null,
      "metadata": {
        "collapsed": false,
        "outputHidden": false,
        "inputHidden": false
      }
    }
  ],
  "metadata": {
    "kernel_info": {
      "name": "python3"
    },
    "language_info": {
      "name": "python",
      "version": "3.6.5",
      "mimetype": "text/x-python",
      "codemirror_mode": {
        "name": "ipython",
        "version": 3
      },
      "pygments_lexer": "ipython3",
      "nbconvert_exporter": "python",
      "file_extension": ".py"
    },
    "kernelspec": {
      "name": "python3",
      "language": "python",
      "display_name": "Python 3"
    },
    "nteract": {
      "version": "0.12.3"
    }
  },
  "nbformat": 4,
  "nbformat_minor": 4
}