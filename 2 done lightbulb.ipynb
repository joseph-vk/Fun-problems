{
  "cells": [
    {
      "cell_type": "code",
      "source": [
        "\n\n\n",
        "def solution(A):\n",
        "    sets = set()\n",
        "    # write your code in Python 3.6\n",
        "    counter = 0\n",
        "    for i in A:\n",
        "        sets.add(i)\n",
        "#         print(sets)\n",
        "        tempset = set(range(1,i+1))\n",
        "#         print(tempset)\n",
        "        difference = tempset - sets\n",
        "#         print(difference)\n",
        "        if len(difference) == 0: counter += 1\n",
        "#         print(counter)\n",
        "    return counter\n",
        "    pass\n",
        "\n\n\n\n"
      ],
      "outputs": [],
      "execution_count": 24,
      "metadata": {
        "collapsed": false,
        "outputHidden": false,
        "inputHidden": false
      }
    },
    {
      "cell_type": "code",
      "source": [
        "# A = [2,1,3,5,4]\n",
        "# A = [2,3,4,1,5]\n",
        "A = [1,3,4,2,5]\n",
        "\nsolution(A)"
      ],
      "outputs": [
        {
          "output_type": "execute_result",
          "execution_count": 27,
          "data": {
            "text/plain": [
              "3"
            ]
          },
          "metadata": {}
        }
      ],
      "execution_count": 27,
      "metadata": {
        "collapsed": false,
        "outputHidden": false,
        "inputHidden": false
      }
    },
    {
      "cell_type": "code",
      "source": [],
      "outputs": [],
      "execution_count": null,
      "metadata": {
        "collapsed": false,
        "outputHidden": false,
        "inputHidden": false
      }
    }
  ],
  "metadata": {
    "kernel_info": {
      "name": "python3"
    },
    "language_info": {
      "name": "python",
      "version": "3.6.5",
      "mimetype": "text/x-python",
      "codemirror_mode": {
        "name": "ipython",
        "version": 3
      },
      "pygments_lexer": "ipython3",
      "nbconvert_exporter": "python",
      "file_extension": ".py"
    },
    "kernelspec": {
      "name": "python3",
      "language": "python",
      "display_name": "Python 3"
    },
    "nteract": {
      "version": "0.12.3"
    }
  },
  "nbformat": 4,
  "nbformat_minor": 4
}